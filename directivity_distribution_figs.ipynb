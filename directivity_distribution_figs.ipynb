{
 "cells": [
  {
   "cell_type": "markdown",
   "id": "93b40c2a",
   "metadata": {},
   "source": [
    "# Directivity of a distribution of baffled pistons with arbitrary phase\n",
    "\n",
    "N Pistons with different sizes, are randomnly placed on the plane. The pistons vibrate with arbitrary phase. The relative phase bewteen the pistons 1 and 2 is denoted $\\Phi_{12}$ and the relative distance $d_{12}$."
   ]
  },
  {
   "cell_type": "markdown",
   "id": "89fb6796",
   "metadata": {
    "cell_style": "center",
    "hide_input": true
   },
   "source": [
    "## Single baffled piston\n",
    "A piston with radius $a$ is placed on a plane, as depicted in **Figure 1.**\n",
    "\n",
    "<center> <img src=\"img/piston.png\" width=600 class=\"center\"/> </center> \n",
    "<!-- <iframe src=\"img/piston.pdf\" width=\"50%\" height=\"520px\"> -->"
   ]
  },
  {
   "cell_type": "markdown",
   "id": "38506ea6",
   "metadata": {
    "hide_input": true
   },
   "source": [
    "\\begin{equation}\\large\n",
    "D_p(\\theta)  = \\frac{2J_1(ka\\sin\\theta)}{ka\\sin\\theta}\n",
    "\\end{equation}"
   ]
  },
  {
   "cell_type": "markdown",
   "id": "e861d9d1",
   "metadata": {},
   "source": [
    "\\begin{equation}\\large\n",
    "D(\\theta,\\phi) = D_p(\\theta)\\left[1 + e^{i(kd\\sin\\theta\\cos\\phi+\\Phi_{12})}\\right]\n",
    "\\end{equation}"
   ]
  },
  {
   "cell_type": "code",
   "execution_count": 4,
   "id": "b4f80b00",
   "metadata": {},
   "outputs": [
    {
     "data": {
      "text/html": [
       "\n",
       "        <iframe\n",
       "            width=\"1600\"\n",
       "            height=\"450\"\n",
       "            src=\"img/quadrupole_L.html\"\n",
       "            frameborder=\"0\"\n",
       "            allowfullscreen\n",
       "        ></iframe>\n",
       "        "
      ],
      "text/plain": [
       "<IPython.lib.display.IFrame at 0x7f3d39132910>"
      ]
     },
     "execution_count": 4,
     "metadata": {},
     "output_type": "execute_result"
    }
   ],
   "source": [
    "from IPython.display import IFrame\n",
    "IFrame('img/quadrupole_L.html', width=1600, height=450)"
   ]
  },
  {
   "cell_type": "code",
   "execution_count": null,
   "id": "2a184af8",
   "metadata": {},
   "outputs": [],
   "source": []
  }
 ],
 "metadata": {
  "celltoolbar": "Edit Metadata",
  "hide_input": false,
  "kernelspec": {
   "display_name": "Python 3",
   "language": "python",
   "name": "python3"
  },
  "language_info": {
   "codemirror_mode": {
    "name": "ipython",
    "version": 3
   },
   "file_extension": ".py",
   "mimetype": "text/x-python",
   "name": "python",
   "nbconvert_exporter": "python",
   "pygments_lexer": "ipython3",
   "version": "3.8.8"
  },
  "toc": {
   "base_numbering": 1,
   "nav_menu": {},
   "number_sections": true,
   "sideBar": true,
   "skip_h1_title": false,
   "title_cell": "Table of Contents",
   "title_sidebar": "Contents",
   "toc_cell": false,
   "toc_position": {},
   "toc_section_display": true,
   "toc_window_display": false
  },
  "varInspector": {
   "cols": {
    "lenName": 16,
    "lenType": 16,
    "lenVar": 40
   },
   "kernels_config": {
    "python": {
     "delete_cmd_postfix": "",
     "delete_cmd_prefix": "del ",
     "library": "var_list.py",
     "varRefreshCmd": "print(var_dic_list())"
    },
    "r": {
     "delete_cmd_postfix": ") ",
     "delete_cmd_prefix": "rm(",
     "library": "var_list.r",
     "varRefreshCmd": "cat(var_dic_list()) "
    }
   },
   "types_to_exclude": [
    "module",
    "function",
    "builtin_function_or_method",
    "instance",
    "_Feature"
   ],
   "window_display": false
  }
 },
 "nbformat": 4,
 "nbformat_minor": 5
}
